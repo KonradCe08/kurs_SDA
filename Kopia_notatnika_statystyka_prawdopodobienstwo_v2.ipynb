{
  "cells": [
    {
      "cell_type": "markdown",
      "metadata": {
        "id": "view-in-github",
        "colab_type": "text"
      },
      "source": [
        "<a href=\"https://colab.research.google.com/github/KonradCe08/kurs_SDA/blob/main/Kopia_notatnika_statystyka_prawdopodobienstwo_v2.ipynb\" target=\"_parent\"><img src=\"https://colab.research.google.com/assets/colab-badge.svg\" alt=\"Open In Colab\"/></a>"
      ]
    },
    {
      "cell_type": "markdown",
      "metadata": {
        "id": "jAMhIt3C3G5B"
      },
      "source": [
        "### Zadanie 1\n"
      ]
    },
    {
      "cell_type": "markdown",
      "metadata": {
        "id": "-YUCJNngGVrL"
      },
      "source": [
        "Stwórz numpy array z wartościami od 1 do do 9, wyświetl, a następnie odwróć tę tablicę (pierwszy element zostaje ostatnim, itd.). "
      ]
    },
    {
      "cell_type": "code",
      "source": [
        "import numpy as np\n",
        "a=np.arange(1,10)\n",
        "print(a)\n",
        "print(a[2])\n",
        "print(a[::-1])\n",
        "a1=a[::-1]\n",
        "a1\n",
        "a*a1"
      ],
      "metadata": {
        "colab": {
          "base_uri": "https://localhost:8080/"
        },
        "id": "3DPj75-fSO-j",
        "outputId": "7a0e4a72-4000-4272-d103-f3157a3d6788"
      },
      "execution_count": null,
      "outputs": [
        {
          "output_type": "stream",
          "name": "stdout",
          "text": [
            "[1 2 3 4 5 6 7 8 9]\n",
            "3\n",
            "[9 8 7 6 5 4 3 2 1]\n"
          ]
        },
        {
          "output_type": "execute_result",
          "data": {
            "text/plain": [
              "array([ 9, 16, 21, 24, 25, 24, 21, 16,  9])"
            ]
          },
          "metadata": {},
          "execution_count": 29
        }
      ]
    },
    {
      "cell_type": "markdown",
      "metadata": {
        "id": "z5qVFPWSPgZw"
      },
      "source": [
        "### Zadanie 2"
      ]
    },
    {
      "cell_type": "markdown",
      "metadata": {
        "id": "iQsTQVzYPhnv"
      },
      "source": [
        "Stwórz następujący numpy array: [1, 23, 4, 31, 1, 1, 4, 23, 4, 1]; a następnie wypisz wszystkie unikalne (nie powtarzające się) elementy."
      ]
    },
    {
      "cell_type": "code",
      "source": [
        "A=np.array([1, 23, 4, 31, 1, 1, 4, 23, 4, 1])\n",
        "print(A)\n",
        "A=np.unique(A)\n",
        "print(A)\n",
        "print(A.shape)\n",
        "print(A.ndim)\n",
        "type(A)"
      ],
      "metadata": {
        "colab": {
          "base_uri": "https://localhost:8080/"
        },
        "id": "tVXun58PT5O6",
        "outputId": "170c9e67-445c-47fa-e622-5a0809628cf5"
      },
      "execution_count": null,
      "outputs": [
        {
          "output_type": "stream",
          "name": "stdout",
          "text": [
            "[ 1 23  4 31  1  1  4 23  4  1]\n",
            "[ 1  4 23 31]\n",
            "(4,)\n",
            "1\n"
          ]
        },
        {
          "output_type": "execute_result",
          "data": {
            "text/plain": [
              "numpy.ndarray"
            ]
          },
          "metadata": {},
          "execution_count": 34
        }
      ]
    },
    {
      "cell_type": "markdown",
      "metadata": {
        "id": "aHTBVb_G3ODT"
      },
      "source": [
        "### Zadanie 3"
      ]
    },
    {
      "cell_type": "markdown",
      "metadata": {
        "id": "r3ElLaHKGbjY"
      },
      "source": [
        "Stwórz macierz 3x3 (używając reshape) z wartościami od 2 do 10."
      ]
    },
    {
      "cell_type": "code",
      "source": [
        "A=np.arange(2,11)\n",
        "print(A)\n",
        "A1=A.reshape(3,3)\n",
        "A2=A1.T\n",
        "print(A1)\n",
        "print(A2)\n",
        "np.add(A1,A2)+5"
      ],
      "metadata": {
        "colab": {
          "base_uri": "https://localhost:8080/"
        },
        "id": "aNg9jRoAcwBV",
        "outputId": "6e16658d-0a27-46cd-e70d-df4725ba2b17"
      },
      "execution_count": null,
      "outputs": [
        {
          "output_type": "stream",
          "name": "stdout",
          "text": [
            "[ 2  3  4  5  6  7  8  9 10]\n",
            "[[ 2  3  4]\n",
            " [ 5  6  7]\n",
            " [ 8  9 10]]\n",
            "[[ 2  5  8]\n",
            " [ 3  6  9]\n",
            " [ 4  7 10]]\n"
          ]
        },
        {
          "output_type": "execute_result",
          "data": {
            "text/plain": [
              "array([[ 9, 13, 17],\n",
              "       [13, 17, 21],\n",
              "       [17, 21, 25]])"
            ]
          },
          "metadata": {},
          "execution_count": 52
        }
      ]
    },
    {
      "cell_type": "code",
      "source": [
        "n_wierszy=A1.shape[0]\n",
        "n_kolumn=A1.shape[1]\n",
        "liczba_elementow=n_wierszy*n_kolumn\n",
        "print(liczba_elementow)"
      ],
      "metadata": {
        "colab": {
          "base_uri": "https://localhost:8080/"
        },
        "id": "DcCgFTPWfagQ",
        "outputId": "0c9f913d-6723-4241-9198-26825634ca5d"
      },
      "execution_count": null,
      "outputs": [
        {
          "output_type": "stream",
          "name": "stdout",
          "text": [
            "9\n"
          ]
        }
      ]
    },
    {
      "cell_type": "markdown",
      "metadata": {
        "id": "7DKQVzsSCDGi"
      },
      "source": [
        "### Zadanie 4"
      ]
    },
    {
      "cell_type": "markdown",
      "metadata": {
        "id": "JhiYzSNBGe2A"
      },
      "source": [
        "Stwórz tablicę z sześcioma losowymi wartościami z przedziału od 10 do 30."
      ]
    },
    {
      "cell_type": "code",
      "source": [
        "A=np.random.randint(10,31,size=6)\n",
        "print(A)"
      ],
      "metadata": {
        "colab": {
          "base_uri": "https://localhost:8080/"
        },
        "id": "lG5zC2-agJjQ",
        "outputId": "cf5fdc25-d78e-48ad-ad49-478797319ba0"
      },
      "execution_count": null,
      "outputs": [
        {
          "output_type": "stream",
          "name": "stdout",
          "text": [
            "[29 14 23 16 19 11]\n"
          ]
        }
      ]
    },
    {
      "cell_type": "code",
      "source": [
        "A=np.random.randint(1,50,size=6)\n",
        "print(A)\n",
        "sorted(A)\n",
        "np.unique(A)"
      ],
      "metadata": {
        "colab": {
          "base_uri": "https://localhost:8080/"
        },
        "id": "9cEQNP-vhFm7",
        "outputId": "a719e047-9041-4676-fd1f-d4211b942e02"
      },
      "execution_count": null,
      "outputs": [
        {
          "output_type": "stream",
          "name": "stdout",
          "text": [
            "[22 27  6 16  6 21]\n"
          ]
        },
        {
          "output_type": "execute_result",
          "data": {
            "text/plain": [
              "array([ 6, 16, 21, 22, 27])"
            ]
          },
          "metadata": {},
          "execution_count": 72
        }
      ]
    },
    {
      "cell_type": "code",
      "source": [
        "np.median(np.unique(A))"
      ],
      "metadata": {
        "colab": {
          "base_uri": "https://localhost:8080/"
        },
        "id": "hw23MzBfhmSJ",
        "outputId": "7b6b46b5-ef8a-46ba-e5e7-db9ada6e34c0"
      },
      "execution_count": null,
      "outputs": [
        {
          "output_type": "execute_result",
          "data": {
            "text/plain": [
              "21.0"
            ]
          },
          "metadata": {},
          "execution_count": 78
        }
      ]
    },
    {
      "cell_type": "markdown",
      "metadata": {
        "id": "q_5F7qHpWvCD"
      },
      "source": [
        "### Zadanie 5"
      ]
    },
    {
      "cell_type": "markdown",
      "metadata": {
        "id": "EzfTFp00Wwmm"
      },
      "source": [
        "Spośród tablicy wartości: [23, 45, 112, 150, 43, 254, 95, 8] wyfiltruj te, które są większe od 100."
      ]
    },
    {
      "cell_type": "code",
      "source": [
        "A=np.array( [23, 45, 112, 150, 43, 254, 95, 8] )\n",
        "print(type(A))\n",
        "wiecej_sto=np.where(A>100,100,A)\n",
        "print(wiecej_sto)\n",
        "#A[wiecej_sto[0]]\n",
        "type(wiecej_sto)\n",
        "wiecej_sto.ndim\n",
        "print('średnia: '+str(np.mean(wiecej_sto)))\n",
        "print('mediana: '+str(np.median(wiecej_sto)))\n",
        "print('różnica między średnią a medianą: '+str(np.mean(wiecej_sto)-np.median(wiecej_sto)))"
      ],
      "metadata": {
        "colab": {
          "base_uri": "https://localhost:8080/"
        },
        "id": "ACmOFvYnmO_x",
        "outputId": "85ce3023-48c2-4a2c-e9b3-03e9f14ac609"
      },
      "execution_count": null,
      "outputs": [
        {
          "output_type": "stream",
          "name": "stdout",
          "text": [
            "<class 'numpy.ndarray'>\n",
            "[ 23  45 100 100  43 100  95   8]\n",
            "średnia: 64.25\n",
            "mediana: 70.0\n",
            "różnica między średnią a medianą: -5.75\n"
          ]
        }
      ]
    },
    {
      "cell_type": "code",
      "source": [
        "round(np.mean(wiecej_sto))"
      ],
      "metadata": {
        "colab": {
          "base_uri": "https://localhost:8080/"
        },
        "id": "Eq3LyzU8p5fh",
        "outputId": "ed43c6e7-210c-4287-d939-31b29de3df5e"
      },
      "execution_count": null,
      "outputs": [
        {
          "output_type": "execute_result",
          "data": {
            "text/plain": [
              "64"
            ]
          },
          "metadata": {},
          "execution_count": 104
        }
      ]
    },
    {
      "cell_type": "markdown",
      "metadata": {
        "id": "P7C4QEXo3b8i"
      },
      "source": [
        "### Zadanie 6"
      ]
    },
    {
      "cell_type": "markdown",
      "metadata": {
        "id": "B9mlkSQ8GBHb"
      },
      "source": [
        "Stwórz poniższą macierz 4x4, a następnie:\n",
        "* wyświetl element z drugiego wiersza i trzeciej kolumny, \n",
        "* oblicz jej wyznacznik,\n",
        "* oblicz jej ślad (sumę elementów na głównej przekątnej),\n",
        "* znajdź element największy i najmniejszy."
      ]
    },
    {
      "cell_type": "markdown",
      "metadata": {
        "id": "uE98qbG2GR-m"
      },
      "source": [
        "$ \\begin{bmatrix}\n",
        "1 & 15 & 4 & 13 \\\\\n",
        "8 & 21 & 3 & 12 \\\\\n",
        "11 & 13 & 11 & 5 \\\\\n",
        "32 & 13 & 0 & 2 \n",
        "\\end{bmatrix}  $"
      ]
    },
    {
      "cell_type": "code",
      "source": [
        "A=np.array([[1,15,4,13],[8,21,3,12],[11,13,11,5],[32,13,0,2]])\n",
        "print('element z drugiego wiersza i trzeciej kolumny: ' +str(A[1,2]))\n",
        "print(np.linalg.det(A)) \n",
        "A.diagonal().sum()\n",
        "A.min()\n",
        "A.max()\n",
        "A-np.mean(A)"
      ],
      "metadata": {
        "colab": {
          "base_uri": "https://localhost:8080/"
        },
        "id": "kRGdaILgupGd",
        "outputId": "0409b7df-7854-4434-9525-dbc44441bdc0"
      },
      "execution_count": null,
      "outputs": [
        {
          "output_type": "stream",
          "name": "stdout",
          "text": [
            "element z drugiego wiersza i trzeciej kolumny: 3\n",
            "-19963.99999999999\n"
          ]
        },
        {
          "output_type": "execute_result",
          "data": {
            "text/plain": [
              "array([[ -9.25,   4.75,  -6.25,   2.75],\n",
              "       [ -2.25,  10.75,  -7.25,   1.75],\n",
              "       [  0.75,   2.75,   0.75,  -5.25],\n",
              "       [ 21.75,   2.75, -10.25,  -8.25]])"
            ]
          },
          "metadata": {},
          "execution_count": 116
        }
      ]
    },
    {
      "cell_type": "code",
      "source": [
        "np.average"
      ],
      "metadata": {
        "colab": {
          "base_uri": "https://localhost:8080/"
        },
        "id": "z6Xo9HN4x4fx",
        "outputId": "fd7b2c9d-b593-4126-f011-1e8aee4c8f43"
      },
      "execution_count": null,
      "outputs": [
        {
          "output_type": "execute_result",
          "data": {
            "text/plain": [
              "10.25"
            ]
          },
          "metadata": {},
          "execution_count": 117
        }
      ]
    },
    {
      "cell_type": "markdown",
      "metadata": {
        "id": "gMzSWt44FaYF"
      },
      "source": [
        "### Zadanie 7\n",
        "\n"
      ]
    },
    {
      "cell_type": "markdown",
      "metadata": {
        "id": "yQWjHfoEIyrQ"
      },
      "source": [
        "Stwórz dowolną tablicę wartości, a następnie oblicz średnią i medianę."
      ]
    },
    {
      "cell_type": "code",
      "source": [
        "import numpy as np\n",
        "import scipy as sc\n",
        "import pandas as pd\n",
        "import matplotlib\n",
        "import seaborn as sns\n",
        "\n",
        "\n",
        "A=np.array([10.5,13.3,16.2,17.8,20,18,10.5,12])\n",
        "print(A)\n",
        "sc.stats.describe(A)"
      ],
      "metadata": {
        "colab": {
          "base_uri": "https://localhost:8080/"
        },
        "id": "b_ZVO0pL4GeY",
        "outputId": "fe4afb23-9c60-4506-a933-8d88bf1ce619"
      },
      "execution_count": null,
      "outputs": [
        {
          "output_type": "stream",
          "name": "stdout",
          "text": [
            "[10.5 13.3 16.2 17.8 20.  18.  10.5 12. ]\n"
          ]
        },
        {
          "output_type": "execute_result",
          "data": {
            "text/plain": [
              "DescribeResult(nobs=8, minmax=(10.5, 20.0), mean=14.7875, variance=13.615535714285715, skewness=0.06794906303545553, kurtosis=-1.5273254223935182)"
            ]
          },
          "metadata": {},
          "execution_count": 126
        }
      ]
    },
    {
      "cell_type": "code",
      "source": [
        "import matplotlib.pyplot as plt\n",
        "%matplotlib inline\n",
        "plt.rcParams.update({'figure.figsize':(7,5), 'figure.dpi':100})\n",
        "\n",
        "plt.hist(A, bins=50)\n",
        "plt.gca().set(title='Częstość', ylabel='liczba wystąpień')"
      ],
      "metadata": {
        "colab": {
          "base_uri": "https://localhost:8080/",
          "height": 478
        },
        "id": "8eMOK--p7kU_",
        "outputId": "9069da77-4e81-42e0-b883-f1760d3b8698"
      },
      "execution_count": null,
      "outputs": [
        {
          "output_type": "execute_result",
          "data": {
            "text/plain": [
              "[Text(0, 0.5, 'liczba wystąpień'), Text(0.5, 1.0, 'Częstość')]"
            ]
          },
          "metadata": {},
          "execution_count": 133
        },
        {
          "output_type": "display_data",
          "data": {
            "text/plain": [
              "<Figure size 700x500 with 1 Axes>"
            ],
            "image/png": "[encoded data removed]"
          },
          "metadata": {
            "needs_background": "light"
          }
        }
      ]
    },
    {
      "cell_type": "markdown",
      "metadata": {
        "id": "lneyzfeHR5Lm"
      },
      "source": [
        "### Zadanie 8"
      ]
    },
    {
      "cell_type": "markdown",
      "metadata": {
        "id": "EhRBqNRsR6tq"
      },
      "source": [
        "Stwórz dowolną tablicę wartości, a następnie je znormalizuj - tj. od każdego elementu tablicy odejmij średnią i podziel przez odchylenie standardowe."
      ]
    },
    {
      "cell_type": "code",
      "source": [
        "A=np.array([[10.5,13.3,16.2],[17.8,20,18],[10.5,12,0]])\n",
        "m1=np.mean(A)\n",
        "s1=np.std(A)\n",
        "A1=A-m1\n",
        "A2=A1/s1\n",
        "A2\n",
        "m2=np.mean(A2)\n",
        "s2=np.std(A2)\n",
        "print(m2)\n",
        "print(s2)"
      ],
      "metadata": {
        "colab": {
          "base_uri": "https://localhost:8080/"
        },
        "id": "eyW8QXqF_RV-",
        "outputId": "dedb1d4e-8b62-44a4-806b-e479a2fa70ed"
      },
      "execution_count": null,
      "outputs": [
        {
          "output_type": "stream",
          "name": "stdout",
          "text": [
            "1.4802973661668753e-16\n",
            "1.0\n"
          ]
        }
      ]
    },
    {
      "cell_type": "markdown",
      "metadata": {
        "id": "8DQaaoGLSjs8"
      },
      "source": [
        "### Zadanie 9"
      ]
    },
    {
      "cell_type": "markdown",
      "metadata": {
        "id": "BvdHNDJmSlha"
      },
      "source": [
        "Stwórz funkcję, która przyjmuje dwa wektory (oba o tym samym wymiarze) w postaci numpy tablicy, a zwróci odległość euklidesową między nimi."
      ]
    },
    {
      "cell_type": "code",
      "source": [
        "def euklides(A, B):\n",
        "    suma = 0\n",
        "    for i in range(B.size):\n",
        "        suma +=(A[i]-B[i])**2\n",
        "    return math.sqrt(suma)"
      ],
      "metadata": {
        "id": "lOlnJP2RA_bw"
      },
      "execution_count": null,
      "outputs": []
    },
    {
      "cell_type": "markdown",
      "source": [
        ""
      ],
      "metadata": {
        "id": "Uo3AldG4EO_B"
      }
    },
    {
      "cell_type": "code",
      "source": [
        "def distance1(v1, v2):\n",
        "    return np.sqrt(np.sum((v1 - v2) ** 2))"
      ],
      "metadata": {
        "id": "GBJEjoSsDCSY"
      },
      "execution_count": null,
      "outputs": []
    },
    {
      "cell_type": "code",
      "source": [
        "def distance(v1, v2):\n",
        "   return np.sqrt(np.sum((v1-v2)**2))"
      ],
      "metadata": {
        "id": "5cAzTLEQGTg5"
      },
      "execution_count": null,
      "outputs": []
    },
    {
      "cell_type": "code",
      "source": [
        "v1=np.array([0, 3 ,5])\n",
        "v2=np.array([1 ,6, 7])\n",
        "distance1(v1,v2)"
      ],
      "metadata": {
        "colab": {
          "base_uri": "https://localhost:8080/",
          "height": 200
        },
        "id": "bir7S9CcEQWz",
        "outputId": "18810830-37b4-4447-91a5-a68757745f7e"
      },
      "execution_count": null,
      "outputs": [
        {
          "output_type": "error",
          "ename": "NameError",
          "evalue": "ignored",
          "traceback": [
            "\u001b[0;31m---------------------------------------------------------------------------\u001b[0m",
            "\u001b[0;31mNameError\u001b[0m                                 Traceback (most recent call last)",
            "\u001b[0;32m<ipython-input-82-ce7eb7a78a75>\u001b[0m in \u001b[0;36m<module>\u001b[0;34m()\u001b[0m\n\u001b[1;32m      1\u001b[0m \u001b[0mv1\u001b[0m\u001b[0;34m=\u001b[0m\u001b[0mnp\u001b[0m\u001b[0;34m.\u001b[0m\u001b[0marray\u001b[0m\u001b[0;34m(\u001b[0m\u001b[0;34m[\u001b[0m\u001b[0;36m0\u001b[0m\u001b[0;34m,\u001b[0m \u001b[0;36m3\u001b[0m \u001b[0;34m,\u001b[0m\u001b[0;36m5\u001b[0m\u001b[0;34m]\u001b[0m\u001b[0;34m)\u001b[0m\u001b[0;34m\u001b[0m\u001b[0;34m\u001b[0m\u001b[0m\n\u001b[1;32m      2\u001b[0m \u001b[0mv2\u001b[0m\u001b[0;34m=\u001b[0m\u001b[0mnp\u001b[0m\u001b[0;34m.\u001b[0m\u001b[0marray\u001b[0m\u001b[0;34m(\u001b[0m\u001b[0;34m[\u001b[0m\u001b[0;36m1\u001b[0m \u001b[0;34m,\u001b[0m\u001b[0;36m6\u001b[0m\u001b[0;34m,\u001b[0m \u001b[0;36m7\u001b[0m\u001b[0;34m]\u001b[0m\u001b[0;34m)\u001b[0m\u001b[0;34m\u001b[0m\u001b[0;34m\u001b[0m\u001b[0m\n\u001b[0;32m----> 3\u001b[0;31m \u001b[0mdistance1\u001b[0m\u001b[0;34m(\u001b[0m\u001b[0mv1\u001b[0m\u001b[0;34m,\u001b[0m\u001b[0mv2\u001b[0m\u001b[0;34m)\u001b[0m\u001b[0;34m\u001b[0m\u001b[0;34m\u001b[0m\u001b[0m\n\u001b[0m",
            "\u001b[0;31mNameError\u001b[0m: name 'distance1' is not defined"
          ]
        }
      ]
    },
    {
      "cell_type": "markdown",
      "metadata": {
        "id": "EpjaMU7aTvZW"
      },
      "source": [
        " $ d\\left( p,q\\right)   = \\sqrt {\\sum _{i=1}^{n}  \\left( q_{i}-p_{i}\\right)^2 } $"
      ]
    },
    {
      "cell_type": "markdown",
      "metadata": {
        "id": "sLRG0TeXVU17"
      },
      "source": [
        "### Zadanie 10"
      ]
    },
    {
      "cell_type": "markdown",
      "metadata": {
        "id": "xYZJuil8eZiu"
      },
      "source": [
        "Korzystając z testu Shapiro-Wilka sprawdź, czy podana próba ma rozkład normalny: [0.873, 2.817, 0.121, -0.945, -0.055, -1.436, 0.360, -1.478, -1.637, -1.869] \n"
      ]
    },
    {
      "cell_type": "code",
      "execution_count": null,
      "metadata": {
        "id": "F2HG5xDn6Iso"
      },
      "outputs": [],
      "source": [
        ""
      ]
    }
  ],
  "metadata": {
    "colab": {
      "name": "Kopia notatnika statystyka_prawdopodobienstwo v2",
      "provenance": [],
      "collapsed_sections": [],
      "include_colab_link": true
    },
    "kernelspec": {
      "display_name": "Python 3",
      "language": "python",
      "name": "python3"
    },
    "language_info": {
      "codemirror_mode": {
        "name": "ipython",
        "version": 3
      },
      "file_extension": ".py",
      "mimetype": "text/x-python",
      "name": "python",
      "nbconvert_exporter": "python",
      "pygments_lexer": "ipython3",
      "version": "3.8.5"
    }
  },
  "nbformat": 4,
  "nbformat_minor": 0
}