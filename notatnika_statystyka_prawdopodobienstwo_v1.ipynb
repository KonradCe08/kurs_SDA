{
  "cells": [
    {
      "cell_type": "markdown",
      "metadata": {
        "id": "view-in-github",
        "colab_type": "text"
      },
      "source": [
        "<a href=\"https://colab.research.google.com/github/KonradCe08/kurs_SDA/blob/main/notatnika_statystyka_prawdopodobienstwo_v1.ipynb\" target=\"_parent\"><img src=\"https://colab.research.google.com/assets/colab-badge.svg\" alt=\"Open In Colab\"/></a>"
      ]
    },
    {
      "cell_type": "markdown",
      "metadata": {
        "id": "jAMhIt3C3G5B"
      },
      "source": [
        "### Zadanie 1\n"
      ]
    },
    {
      "cell_type": "markdown",
      "metadata": {
        "id": "-YUCJNngGVrL"
      },
      "source": [
        "Stwórz numpy array z wartościami od 1 do doss 9, wyświetl, a następnie odwróć tę tablicę (pierwszy element zostaje ostatnim, itd.). "
      ]
    },
    {
      "cell_type": "code",
      "source": [
        "import numpy as np\n",
        "a=np.arange(1,10)\n",
        "print(a)\n",
        "print(a[2])\n",
        "print(a[::-1])\n",
        "a1=a[::-1]\n",
        "a1\n",
        "a*a1"
      ],
      "metadata": {
        "id": "0D027FGWSgOw",
        "outputId": "3c1717c3-ec33-46e3-d512-82ff6cb6fcdf",
        "colab": {
          "base_uri": "https://localhost:8080/"
        }
      },
      "execution_count": null,
      "outputs": [
        {
          "output_type": "stream",
          "name": "stdout",
          "text": [
            "[1 2 3 4 5 6 7 8 9]\n",
            "3\n",
            "[9 8 7 6 5 4 3 2 1]\n"
          ]
        },
        {
          "output_type": "execute_result",
          "data": {
            "text/plain": [
              "array([ 9, 16, 21, 24, 25, 24, 21, 16,  9])"
            ]
          },
          "metadata": {},
          "execution_count": 9
        }
      ]
    },
    {
      "cell_type": "markdown",
      "metadata": {
        "id": "z5qVFPWSPgZw"
      },
      "source": [
        "### Zadanie 2"
      ]
    },
    {
      "cell_type": "markdown",
      "metadata": {
        "id": "iQsTQVzYPhnv"
      },
      "source": [
        "Stwórz następujący numpy array: [1, 23, 4, 31, 1, 1, 4, 23, 4, 1]; a następnie wypisz wszystkie unikalne (nie powtarzające się) elementy."
      ]
    },
    {
      "cell_type": "code",
      "source": [
        "import numpy as np\n",
        "a=np.array([1,23,4,31,1,1,4,23,4,1])\n",
        "print(a)\n",
        "a=np.unique(a)\n",
        "print(a)\n",
        "print(a.shape)\n",
        "print(a.ndim)\n",
        "type(a)"
      ],
      "metadata": {
        "id": "hWVPBmpLUE5y",
        "outputId": "4b094a9e-d37b-4648-db37-d89b2854e4ff",
        "colab": {
          "base_uri": "https://localhost:8080/"
        }
      },
      "execution_count": null,
      "outputs": [
        {
          "output_type": "stream",
          "name": "stdout",
          "text": [
            "[ 1 23  4 31  1  1  4 23  4  1]\n",
            "[ 1  4 23 31]\n",
            "(4,)\n",
            "1\n"
          ]
        },
        {
          "output_type": "execute_result",
          "data": {
            "text/plain": [
              "numpy.ndarray"
            ]
          },
          "metadata": {},
          "execution_count": 21
        }
      ]
    },
    {
      "cell_type": "markdown",
      "metadata": {
        "id": "aHTBVb_G3ODT"
      },
      "source": [
        "### Zadanie 3"
      ]
    },
    {
      "cell_type": "markdown",
      "metadata": {
        "id": "r3ElLaHKGbjY"
      },
      "source": [
        "Stwórz macierz 3x3 (używając reshape) z wartościami od 2 do 10."
      ]
    },
    {
      "cell_type": "code",
      "source": [
        "a=np.arange(2,11)\n",
        "print(a)\n",
        "a1=a.reshape(3,3)\n",
        "a2=a1.T\n",
        "print(a1)\n",
        "print(a2)\n",
        "np.add(a1,a2)+5"
      ],
      "metadata": {
        "id": "JOEsOfWVUJNY",
        "outputId": "95d4a372-6e8e-4b59-d675-2b00ca703a73",
        "colab": {
          "base_uri": "https://localhost:8080/"
        }
      },
      "execution_count": null,
      "outputs": [
        {
          "output_type": "stream",
          "name": "stdout",
          "text": [
            "[ 2  3  4  5  6  7  8  9 10]\n",
            "[[ 2  3  4]\n",
            " [ 5  6  7]\n",
            " [ 8  9 10]]\n",
            "[[ 2  5  8]\n",
            " [ 3  6  9]\n",
            " [ 4  7 10]]\n"
          ]
        },
        {
          "output_type": "execute_result",
          "data": {
            "text/plain": [
              "array([[ 9, 13, 17],\n",
              "       [13, 17, 21],\n",
              "       [17, 21, 25]])"
            ]
          },
          "metadata": {},
          "execution_count": 33
        }
      ]
    },
    {
      "cell_type": "markdown",
      "metadata": {
        "id": "7DKQVzsSCDGi"
      },
      "source": [
        "### Zadanie 4"
      ]
    },
    {
      "cell_type": "markdown",
      "metadata": {
        "id": "JhiYzSNBGe2A"
      },
      "source": [
        "Stwórz tablicę z sześcioma losowymi wartościami z przedziału od 10 do 30."
      ]
    },
    {
      "cell_type": "code",
      "source": [
        "a=np.random.randint(1,31,size=6)\n",
        "print(a)\n",
        "sorted(a)\n",
        "np.unique(a)\n",
        "\n",
        "np.median(np.unique(a))"
      ],
      "metadata": {
        "id": "pPP17ftSgKBc",
        "outputId": "85039a78-5018-4329-f864-6f7cd96b06aa",
        "colab": {
          "base_uri": "https://localhost:8080/"
        }
      },
      "execution_count": null,
      "outputs": [
        {
          "output_type": "stream",
          "name": "stdout",
          "text": [
            "[ 6 16  4  6 16  3]\n"
          ]
        },
        {
          "output_type": "execute_result",
          "data": {
            "text/plain": [
              "5.0"
            ]
          },
          "metadata": {},
          "execution_count": 56
        }
      ]
    },
    {
      "cell_type": "markdown",
      "metadata": {
        "id": "q_5F7qHpWvCD"
      },
      "source": [
        "### Zadanie 5"
      ]
    },
    {
      "cell_type": "markdown",
      "metadata": {
        "id": "EzfTFp00Wwmm"
      },
      "source": [
        "Spośród tablicy wartości: [23, 45, 112, 150, 43, 254, 95, 8] wyfiltruj te, które są większe od 100."
      ]
    },
    {
      "cell_type": "code",
      "source": [
        "a=np.array([23, 45, 112, 150, 43, 254, 95, 8])\n",
        "print(type(a))\n",
        "wiecej_sto=np.where(a>100,100,a)\n",
        "print(wiecej_sto)\n",
        "#a[wiecej_sto[0]]\n",
        "type(wiecej_sto)\n",
        "wiecej_sto.ndim\n",
        "print('srednia:'+str(np.mean(wiecej_sto)))\n",
        "print('mediana:'+str(np.median(wiecej_sto)))\n",
        "print('roznica miedzy srednia a mediana'+str(np.mean(wiecej_sto)-np.median(wiecej_sto)))"
      ],
      "metadata": {
        "id": "Bh29e9B7mOqC",
        "outputId": "f0d28a42-324f-452d-9a31-427cb5a6d8d7",
        "colab": {
          "base_uri": "https://localhost:8080/"
        }
      },
      "execution_count": null,
      "outputs": [
        {
          "output_type": "stream",
          "name": "stdout",
          "text": [
            "<class 'numpy.ndarray'>\n",
            "[ 23  45 100 100  43 100  95   8]\n",
            "srednia:64.25\n",
            "mediana:70.0\n",
            "roznica miedzy srednia a mediana-5.75\n"
          ]
        }
      ]
    },
    {
      "cell_type": "markdown",
      "metadata": {
        "id": "P7C4QEXo3b8i"
      },
      "source": [
        "### Zadanie 6"
      ]
    },
    {
      "cell_type": "markdown",
      "metadata": {
        "id": "B9mlkSQ8GBHb"
      },
      "source": [
        "Stwórz poniższą macierz 4x4, a następnie:\n",
        "* wyświetl element z drugiego wiersza i trzeciej kolumny, \n",
        "* oblicz jej wyznacznik,\n",
        "* oblicz jej ślad (sumę elementów na głównej przekątnej),\n",
        "* znajdź element największy i najmniejszy."
      ]
    },
    {
      "cell_type": "markdown",
      "metadata": {
        "id": "uE98qbG2GR-m"
      },
      "source": [
        "$ \\begin{bmatrix}\n",
        "1 & 15 & 4 & 13 \\\\\n",
        "8 & 21 & 3 & 12 \\\\\n",
        "11 & 13 & 11 & 5 \\\\\n",
        "32 & 13 & 0 & 2 \n",
        "\\end{bmatrix}  $"
      ]
    },
    {
      "cell_type": "code",
      "source": [
        "a=np.array([[1,15,4,13],[8,21,3,12],[11,13,11,5],[32,13,0,2]])\n",
        "print(a[1,2])\n",
        "print('element:'+str(a[1,2]))\n",
        "print(np.linalg.det(a))\n",
        "a.diagonal().sum()\n",
        "a.min()\n",
        "a.max()"
      ],
      "metadata": {
        "id": "fRhW1NkuvuTE",
        "outputId": "ca85f108-be9e-464f-aead-1980f67158c4",
        "colab": {
          "base_uri": "https://localhost:8080/"
        }
      },
      "execution_count": null,
      "outputs": [
        {
          "output_type": "stream",
          "name": "stdout",
          "text": [
            "3\n",
            "element:3\n",
            "-19963.99999999999\n"
          ]
        },
        {
          "output_type": "execute_result",
          "data": {
            "text/plain": [
              "32"
            ]
          },
          "metadata": {},
          "execution_count": 64
        }
      ]
    },
    {
      "cell_type": "markdown",
      "metadata": {
        "id": "gMzSWt44FaYF"
      },
      "source": [
        "### Zadanie 7\n",
        "\n"
      ]
    },
    {
      "cell_type": "markdown",
      "metadata": {
        "id": "yQWjHfoEIyrQ"
      },
      "source": [
        "Stwórz dowolną tablicę wartości, a następnie oblicz średnią i medianę."
      ]
    },
    {
      "cell_type": "code",
      "source": [
        "\n",
        "a=np.array([10.5,13,3.16,21,33.5])\n",
        "print(a)\n",
        "print(median(a))\n",
        "print(mean(a))"
      ],
      "metadata": {
        "id": "_xPUCMLy4Njn",
        "outputId": "f3d27724-4363-4e97-d218-33d35966588c",
        "colab": {
          "base_uri": "https://localhost:8080/"
        }
      },
      "execution_count": null,
      "outputs": [
        {
          "output_type": "stream",
          "name": "stdout",
          "text": [
            "[10.5  13.    3.16 21.   33.5 ]\n",
            "13.0\n",
            "16.232\n"
          ]
        }
      ]
    },
    {
      "cell_type": "markdown",
      "metadata": {
        "id": "lneyzfeHR5Lm"
      },
      "source": [
        "### Zadanie 8"
      ]
    },
    {
      "cell_type": "markdown",
      "metadata": {
        "id": "EhRBqNRsR6tq"
      },
      "source": [
        "Stwórz dowolną tablicę wartości, a następnie je znormalizuj - tj. od każdego elementu tablicy odejmij średnią i podziel przez odchylenie standardowe."
      ]
    },
    {
      "cell_type": "code",
      "source": [
        "a=np.array([10.5,13,3.16,21,33.5])\n",
        "m1=np.mean(a)\n",
        "s1=np.std(a)\n",
        "a1=a-m1\n",
        "a2=a1/s1\n",
        "m2=np.mean(a2)\n",
        "s2=np.std(a2)\n",
        "print(a1)\n",
        "print(a2)\n",
        "print(m2)\n",
        "print(s2)"
      ],
      "metadata": {
        "id": "l098a6GL_Fsb",
        "outputId": "25a50d36-eded-4594-97d4-bc0517922c76",
        "colab": {
          "base_uri": "https://localhost:8080/"
        }
      },
      "execution_count": null,
      "outputs": [
        {
          "output_type": "stream",
          "name": "stdout",
          "text": [
            "[ -5.732  -3.232 -13.072   4.768  17.268]\n",
            "[-0.5540834  -0.31242106 -1.26360401  0.4608984   1.66921007]\n",
            "0.0\n",
            "1.0\n"
          ]
        }
      ]
    },
    {
      "cell_type": "markdown",
      "metadata": {
        "id": "8DQaaoGLSjs8"
      },
      "source": [
        "### Zadanie 9"
      ]
    },
    {
      "cell_type": "markdown",
      "metadata": {
        "id": "BvdHNDJmSlha"
      },
      "source": [
        "Stwórz funkcję, która przyjmuje dwa wektory (oba o tym samym wymiarze) w postaci numpy tablicy, a zwróci odległość euklidesową między nimi."
      ]
    },
    {
      "cell_type": "markdown",
      "metadata": {
        "id": "EpjaMU7aTvZW"
      },
      "source": [
        " $ d\\left( p,q\\right)   = \\sqrt {\\sum _{i=1}^{n}  \\left( q_{i}-p_{i}\\right)^2 } $"
      ]
    },
    {
      "cell_type": "markdown",
      "metadata": {
        "id": "sLRG0TeXVU17"
      },
      "source": [
        "### Zadanie 10"
      ]
    },
    {
      "cell_type": "markdown",
      "metadata": {
        "id": "xYZJuil8eZiu"
      },
      "source": [
        "Korzystając z testu Shapiro-Wilka sprawdź, czy podana próba ma rozkład normalny: [0.873, 2.817, 0.121, -0.945, -0.055, -1.436, 0.360, -1.478, -1.637, -1.869] \n"
      ]
    },
    {
      "cell_type": "code",
      "execution_count": null,
      "metadata": {
        "id": "F2HG5xDn6Iso"
      },
      "outputs": [],
      "source": [
        ""
      ]
    }
  ],
  "metadata": {
    "colab": {
      "name": "notatnika statystyka_prawdopodobienstwo v1",
      "provenance": [],
      "collapsed_sections": [],
      "include_colab_link": true
    },
    "kernelspec": {
      "display_name": "Python 3",
      "language": "python",
      "name": "python3"
    },
    "language_info": {
      "codemirror_mode": {
        "name": "ipython",
        "version": 3
      },
      "file_extension": ".py",
      "mimetype": "text/x-python",
      "name": "python",
      "nbconvert_exporter": "python",
      "pygments_lexer": "ipython3",
      "version": "3.8.5"
    }
  },
  "nbformat": 4,
  "nbformat_minor": 0
}